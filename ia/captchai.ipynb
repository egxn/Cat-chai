{
  "nbformat": 4,
  "nbformat_minor": 0,
  "metadata": {
    "colab": {
      "name": "captchai.ipynb",
      "provenance": [],
      "collapsed_sections": []
    },
    "kernelspec": {
      "name": "python3",
      "display_name": "Python 3"
    },
    "accelerator": "GPU"
  },
  "cells": [
    {
      "cell_type": "markdown",
      "metadata": {
        "id": "Ec7sQAPkyeG-",
        "colab_type": "text"
      },
      "source": [
        "# Catchia "
      ]
    },
    {
      "cell_type": "markdown",
      "metadata": {
        "id": "_wThz7nfzWZN",
        "colab_type": "text"
      },
      "source": [
        "[TensorFlow Datasets](https://www.tensorflow.org/datasets/)"
      ]
    },
    {
      "cell_type": "code",
      "metadata": {
        "id": "Yfw48pcozUOG",
        "colab_type": "code",
        "colab": {}
      },
      "source": [
        "!pip install -U tensorflow_datasets"
      ],
      "execution_count": null,
      "outputs": []
    },
    {
      "cell_type": "code",
      "metadata": {
        "id": "mtN_sUyUzK2s",
        "colab_type": "code",
        "colab": {}
      },
      "source": [
        "from __future__ import absolute_import, division, print_function, unicode_literals"
      ],
      "execution_count": null,
      "outputs": []
    },
    {
      "cell_type": "code",
      "metadata": {
        "id": "8SLOO0uOznRg",
        "colab_type": "code",
        "colab": {
          "base_uri": "https://localhost:8080/",
          "height": 34
        },
        "outputId": "e657675f-b3f0-4bfa-e656-4ff3b2382000"
      },
      "source": [
        "try:\n",
        "  # Use the %tensorflow_version magic if in colab.\n",
        "  %tensorflow_version 2.x\n",
        "except Exception:\n",
        "  pass\n",
        "\n",
        "import tensorflow as tf"
      ],
      "execution_count": null,
      "outputs": [
        {
          "output_type": "stream",
          "text": [
            "TensorFlow 2.x selected.\n"
          ],
          "name": "stdout"
        }
      ]
    },
    {
      "cell_type": "code",
      "metadata": {
        "id": "IVNYudNRz2Qe",
        "colab_type": "code",
        "colab": {}
      },
      "source": [
        "# Import TensorFlow Datasets\n",
        "import tensorflow_datasets as tfds\n",
        "tfds.disable_progress_bar()\n",
        "\n",
        "# Helper libraries\n",
        "import math\n",
        "import numpy as np\n",
        "import matplotlib.pyplot as plt"
      ],
      "execution_count": null,
      "outputs": []
    },
    {
      "cell_type": "code",
      "metadata": {
        "id": "tJSCeXfB0ASl",
        "colab_type": "code",
        "colab": {}
      },
      "source": [
        "import logging\n",
        "logger = tf.get_logger()\n",
        "logger.setLevel(logging.ERROR)"
      ],
      "execution_count": null,
      "outputs": []
    },
    {
      "cell_type": "markdown",
      "metadata": {
        "id": "RIkVTkK5y2TO",
        "colab_type": "text"
      },
      "source": [
        "QuickDraw dataset from TensorFlow Datasets\n"
      ]
    },
    {
      "cell_type": "markdown",
      "metadata": {
        "id": "LTxl8rtS1A0g",
        "colab_type": "text"
      },
      "source": [
        "* https://www.tensorflow.org/datasets/splits"
      ]
    },
    {
      "cell_type": "code",
      "metadata": {
        "id": "E9ai7LGEy1qx",
        "colab_type": "code",
        "colab": {}
      },
      "source": [
        "dataset, metadata = tfds.load('quickdraw_bitmap', as_supervised=True, with_info=True)\n",
        "train_dataset, test_dataset = dataset['train'], dataset['test']"
      ],
      "execution_count": null,
      "outputs": []
    },
    {
      "cell_type": "code",
      "metadata": {
        "id": "Aj_3bYhSycuc",
        "colab_type": "code",
        "colab": {}
      },
      "source": [
        "class_names = [\"aircraft carrier\", \"airplane\", \"alarm clock\", \"ambulance\", \"angel\", \"animal migration\", \"ant\", \"anvil\", \"apple\", \"arm\", \"asparagus\", \"axe\", \"backpack\", \"banana\", \"bandage\", \"barn\", \"baseball\", \"baseball bat\", \"basket\", \"basketball\", \"bat\", \"bathtub\", \"beach\", \"bear\", \"beard\", \"bed\", \"bee\", \"belt\", \"bench\", \"bicycle\", \"binoculars\", \"bird\", \"birthday cake\", \"blackberry\", \"blueberry\", \"book\", \"boomerang\", \"bottlecap\", \"bowtie\", \"bracelet\", \"brain\", \"bread\", \"bridge\", \"broccoli\", \"broom\", \"bucket\", \"bulldozer\", \"bus\", \"bush\", \"butterfly\", \"cactus\", \"cake\", \"calculator\", \"calendar\", \"camel\", \"camera\", \"camouflage\", \"campfire\", \"candle\", \"cannon\", \"canoe\", \"car\", \"carrot\", \"castle\", \"cat\", \"ceiling fan\", \"cello\", \"cell phone\", \"chair\", \"chandelier\", \"church\", \"circle\", \"clarinet\", \"clock\", \"cloud\", \"coffee cup\", \"compass\", \"computer\", \"cookie\", \"cooler\", \"couch\", \"cow\", \"crab\", \"crayon\", \"crocodile\", \"crown\", \"cruise ship\", \"cup\", \"diamond\", \"dishwasher\", \"diving board\", \"dog\", \"dolphin\", \"donut\", \"door\", \"dragon\", \"dresser\", \"drill\", \"drums\", \"duck\", \"dumbbell\", \"ear\", \"elbow\", \"elephant\", \"envelope\", \"eraser\", \"eye\", \"eyeglasses\", \"face\", \"fan\", \"feather\", \"fence\", \"finger\", \"fire hydrant\", \"fireplace\", \"firetruck\", \"fish\", \"flamingo\", \"flashlight\", \"flip flops\", \"floor lamp\", \"flower\", \"flying saucer\", \"foot\", \"fork\", \"frog\", \"frying pan\", \"garden\", \"garden hose\", \"giraffe\", \"goatee\", \"golf club\", \"grapes\", \"grass\", \"guitar\", \"hamburger\", \"hammer\", \"hand\", \"harp\", \"hat\", \"headphones\", \"hedgehog\", \"helicopter\", \"helmet\", \"hexagon\", \"hockey puck\", \"hockey stick\", \"horse\", \"hospital\", \"hot air balloon\", \"hot dog\", \"hot tub\", \"hourglass\", \"house\", \"house plant\", \"hurricane\", \"ice cream\", \"jacket\", \"jail\", \"kangaroo\", \"key\", \"keyboard\", \"knee\", \"knife\", \"ladder\", \"lantern\", \"laptop\", \"leaf\", \"leg\", \"light bulb\", \"lighter\", \"lighthouse\", \"lightning\", \"line\", \"lion\", \"lipstick\", \"lobster\", \"lollipop\", \"mailbox\", \"map\", \"marker\", \"matches\", \"megaphone\", \"mermaid\", \"microphone\", \"microwave\", \"monkey\", \"moon\", \"mosquito\", \"motorbike\", \"mountain\", \"mouse\", \"moustache\", \"mouth\", \"mug\", \"mushroom\", \"nail\", \"necklace\", \"nose\", \"ocean\", \"octagon\", \"octopus\", \"onion\", \"oven\", \"owl\", \"paintbrush\", \"paint can\", \"palm tree\", \"panda\", \"pants\", \"paper clip\", \"parachute\", \"parrot\", \"passport\", \"peanut\", \"pear\", \"peas\", \"pencil\", \"penguin\", \"piano\", \"pickup truck\", \"picture frame\", \"pig\", \"pillow\", \"pineapple\", \"pizza\", \"pliers\", \"police car\", \"pond\", \"pool\", \"popsicle\", \"postcard\", \"potato\", \"power outlet\", \"purse\", \"rabbit\", \"raccoon\", \"radio\", \"rain\", \"rainbow\", \"rake\", \"remote control\", \"rhinoceros\", \"rifle\", \"river\", \"roller coaster\", \"rollerskates\", \"sailboat\", \"sandwich\", \"saw\", \"saxophone\", \"school bus\", \"scissors\", \"scorpion\", \"screwdriver\", \"sea turtle\", \"see saw\", \"shark\", \"sheep\", \"shoe\", \"shorts\", \"shovel\", \"sink\", \"skateboard\", \"skull\", \"skyscraper\", \"sleeping bag\", \"smiley face\", \"snail\", \"snake\", \"snorkel\", \"snowflake\", \"snowman\", \"soccer ball\", \"sock\", \"speedboat\", \"spider\", \"spoon\", \"spreadsheet\", \"square\", \"squiggle\", \"squirrel\", \"stairs\", \"star\", \"steak\", \"stereo\", \"stethoscope\", \"stitches\", \"stop sign\", \"stove\", \"strawberry\", \"streetlight\", \"string bean\", \"submarine\", \"suitcase\", \"sun\", \"swan\", \"sweater\", \"swing set\", \"sword\", \"syringe\", \"table\", \"teapot\", \"teddy-bear\", \"telephone\", \"television\", \"tennis racquet\", \"tent\", \"The Eiffel Tower\", \"The Great Wall of China\", \"The Mona Lisa\", \"tiger\", \"toaster\", \"toe\", \"toilet\", \"tooth\", \"toothbrush\", \"toothpaste\", \"tornado\", \"tractor\", \"traffic light\", \"train\", \"tree\", \"triangle\", \"trombone\", \"truck\", \"trumpet\", \"t-shirt\", \"umbrella\", \"underwear\", \"van\", \"vase\", \"violin\", \"washing machine\", \"watermelon\", \"waterslide\", \"whale\", \"wheel\", \"windmill\", \"wine bottle\", \"wine glass\", \"wristwatch\", \"yoga\", \"zebra\", \"zigzag\"]"
      ],
      "execution_count": null,
      "outputs": []
    },
    {
      "cell_type": "code",
      "metadata": {
        "id": "_Xl27ywruZHC",
        "colab_type": "code",
        "colab": {}
      },
      "source": [
        "num_train_examples = metadata.splits['train'].num_examples\n",
        "num_test_examples = metadata.splits['test'].num_examples\n",
        "print(\"Number of training examples: {}\".format(num_train_examples))\n",
        "print(\"Number of test examples:     {}\".format(num_test_examples))"
      ],
      "execution_count": null,
      "outputs": []
    },
    {
      "cell_type": "code",
      "metadata": {
        "id": "MmJXE7-92_G1",
        "colab_type": "code",
        "colab": {}
      },
      "source": [
        "def normalize(images, labels):\n",
        "  images = tf.cast(images, tf.float32)\n",
        "  images /= 255\n",
        "  return images, labels\n",
        "\n",
        "train_dataset =  train_dataset.map(normalize)\n",
        "test_dataset  =  test_dataset.map(normalize)\n",
        "\n",
        "train_dataset =  train_dataset.cache()\n",
        "test_dataset  =  test_dataset.cache()"
      ],
      "execution_count": null,
      "outputs": []
    },
    {
      "cell_type": "code",
      "metadata": {
        "id": "aE4d9TVy3Nzt",
        "colab_type": "code",
        "colab": {}
      },
      "source": [
        "for image, label in test_dataset.take(1):\n",
        "  break\n",
        "image = image.numpy().reshape((28,28))\n",
        "\n",
        "plt.figure()\n",
        "plt.imshow(image, cmap=plt.cm.binary)\n",
        "plt.colorbar()\n",
        "plt.grid(False)\n",
        "plt.show()"
      ],
      "execution_count": null,
      "outputs": []
    },
    {
      "cell_type": "code",
      "metadata": {
        "id": "VGOMuTjF3UeO",
        "colab_type": "code",
        "colab": {}
      },
      "source": [
        "plt.figure(figsize=(10,10))\n",
        "i = 0\n",
        "for (image, label) in test_dataset.take(25):\n",
        "    image = image.numpy().reshape((28,28))\n",
        "    plt.subplot(5,5,i+1)\n",
        "    plt.xticks([])\n",
        "    plt.yticks([])\n",
        "    plt.grid(False)\n",
        "    plt.imshow(image, cmap=plt.cm.binary)\n",
        "    plt.xlabel(class_names[label])\n",
        "    i += 1\n",
        "plt.show()"
      ],
      "execution_count": null,
      "outputs": []
    }
  ]
}